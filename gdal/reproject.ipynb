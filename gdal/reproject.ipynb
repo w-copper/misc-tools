{
 "cells": [
  {
   "cell_type": "code",
   "execution_count": 4,
   "metadata": {},
   "outputs": [],
   "source": [
    "import os\n",
    "import sys\n",
    "import subprocess"
   ]
  },
  {
   "cell_type": "code",
   "execution_count": 21,
   "metadata": {},
   "outputs": [],
   "source": [
    "gdalwarp = os.path.join(os.path.dirname(sys.executable), 'Library', 'bin', 'gdalwarp.exe')\n",
    "origin_data = r'D:\\data\\Crop\\ModisVIsWuHan'\n",
    "output_path = r'D:\\data\\Crop\\ModisVIWuHan_WGS84'\n",
    "os.makedirs(output_path, exist_ok=True)"
   ]
  },
  {
   "cell_type": "code",
   "execution_count": 23,
   "metadata": {},
   "outputs": [],
   "source": [
    "with open('log.txt', 'w') as f:\n",
    "    for fname in os.listdir(origin_data):\n",
    "        if fname.endswith('tif'):\n",
    "            # print(fname)\n",
    "            path = os.path.join(origin_data, fname)\n",
    "            out = os.path.join(output_path, fname)\n",
    "            if os.path.exists(out):\n",
    "                os.remove(out)\n",
    "            args = [\n",
    "                gdalwarp, '-t_srs', 'EPSG:4326', '-r', 'bilinear', path, out\n",
    "            ]\n",
    "            s = subprocess.run(args, stdout=f)\n",
    "            \n",
    "            # subprocess.call, shell=True)\n",
    "            # break\n",
    "# code = subprocess.call(['--help'], executable=gdalwarp)\n",
    "# process"
   ]
  }
 ],
 "metadata": {
  "kernelspec": {
   "display_name": "Python 3.7.13 ('qgis')",
   "language": "python",
   "name": "python3"
  },
  "language_info": {
   "codemirror_mode": {
    "name": "ipython",
    "version": 3
   },
   "file_extension": ".py",
   "mimetype": "text/x-python",
   "name": "python",
   "nbconvert_exporter": "python",
   "pygments_lexer": "ipython3",
   "version": "3.7.13"
  },
  "orig_nbformat": 4,
  "vscode": {
   "interpreter": {
    "hash": "630825c411d26fd37cd18053ceb6407b6d116fc696e5d75dfe8334ada950ef60"
   }
  }
 },
 "nbformat": 4,
 "nbformat_minor": 2
}
